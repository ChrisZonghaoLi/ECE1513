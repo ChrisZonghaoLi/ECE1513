{
  "nbformat": 4,
  "nbformat_minor": 0,
  "metadata": {
    "colab": {
      "name": "Copy of ECE1513H - Assignment 5 boilerplate",
      "provenance": [],
      "collapsed_sections": []
    },
    "kernelspec": {
      "name": "python3",
      "display_name": "Python 3"
    },
    "accelerator": "GPU"
  },
  "cells": [
    {
      "cell_type": "markdown",
      "metadata": {
        "id": "pxMUmlEENLXc",
        "colab_type": "text"
      },
      "source": [
        "Let's first get the imports out of the way."
      ]
    },
    {
      "cell_type": "code",
      "metadata": {
        "id": "v0yDWKUrCBiX",
        "colab_type": "code",
        "colab": {}
      },
      "source": [
        "import array\n",
        "import gzip\n",
        "import itertools\n",
        "import numpy\n",
        "import numpy.random as npr\n",
        "import os\n",
        "import struct\n",
        "import time\n",
        "from os import path\n",
        "import urllib.request\n",
        "import matplotlib.pyplot as plt\n",
        "\n",
        "import jax.numpy as np\n",
        "from jax.api import jit, grad\n",
        "from jax.config import config\n",
        "from jax.scipy.special import logsumexp\n",
        "from jax import random"
      ],
      "execution_count": 0,
      "outputs": []
    },
    {
      "cell_type": "markdown",
      "metadata": {
        "id": "nIp--T57NGrU",
        "colab_type": "text"
      },
      "source": [
        "The following cell contains boilerplate code to download and load MNIST data."
      ]
    },
    {
      "cell_type": "code",
      "metadata": {
        "id": "Du24u5vtDEIn",
        "colab_type": "code",
        "outputId": "a0a98b42-28a8-4f83-aed7-afa39abb3491",
        "colab": {
          "base_uri": "https://localhost:8080/",
          "height": 87
        }
      },
      "source": [
        "_DATA = \"/tmp/\"\n",
        "\n",
        "def _download(url, filename):\n",
        "  \"\"\"Download a url to a file in the JAX data temp directory.\"\"\"\n",
        "  if not path.exists(_DATA):\n",
        "    os.makedirs(_DATA)\n",
        "  out_file = path.join(_DATA, filename)\n",
        "  if not path.isfile(out_file):\n",
        "    urllib.request.urlretrieve(url, out_file)\n",
        "    print(\"downloaded {} to {}\".format(url, _DATA))\n",
        "\n",
        "\n",
        "def _partial_flatten(x):\n",
        "  \"\"\"Flatten all but the first dimension of an ndarray.\"\"\"\n",
        "  return numpy.reshape(x, (x.shape[0], -1))\n",
        "\n",
        "\n",
        "def _one_hot(x, k, dtype=numpy.float32):\n",
        "  \"\"\"Create a one-hot encoding of x of size k.\"\"\"\n",
        "  return numpy.array(x[:, None] == numpy.arange(k), dtype)\n",
        "\n",
        "\n",
        "def mnist_raw():\n",
        "  \"\"\"Download and parse the raw MNIST dataset.\"\"\"\n",
        "  # CVDF mirror of http://yann.lecun.com/exdb/mnist/\n",
        "  base_url = \"https://storage.googleapis.com/cvdf-datasets/mnist/\"\n",
        "\n",
        "  def parse_labels(filename):\n",
        "    with gzip.open(filename, \"rb\") as fh:\n",
        "      _ = struct.unpack(\">II\", fh.read(8))\n",
        "      return numpy.array(array.array(\"B\", fh.read()), dtype=numpy.uint8)\n",
        "\n",
        "  def parse_images(filename):\n",
        "    with gzip.open(filename, \"rb\") as fh:\n",
        "      _, num_data, rows, cols = struct.unpack(\">IIII\", fh.read(16))\n",
        "      return numpy.array(array.array(\"B\", fh.read()),\n",
        "                      dtype=numpy.uint8).reshape(num_data, rows, cols)\n",
        "\n",
        "  for filename in [\"train-images-idx3-ubyte.gz\", \"train-labels-idx1-ubyte.gz\",\n",
        "                   \"t10k-images-idx3-ubyte.gz\", \"t10k-labels-idx1-ubyte.gz\"]:\n",
        "    _download(base_url + filename, filename)\n",
        "\n",
        "  train_images = parse_images(path.join(_DATA, \"train-images-idx3-ubyte.gz\"))\n",
        "  train_labels = parse_labels(path.join(_DATA, \"train-labels-idx1-ubyte.gz\"))\n",
        "  test_images = parse_images(path.join(_DATA, \"t10k-images-idx3-ubyte.gz\"))\n",
        "  test_labels = parse_labels(path.join(_DATA, \"t10k-labels-idx1-ubyte.gz\"))\n",
        "\n",
        "  return train_images, train_labels, test_images, test_labels\n",
        "\n",
        "\n",
        "#def mnist(create_outliers=False):\n",
        "def mnist(create_outliers=True):\n",
        "  \"\"\"Download, parse and process MNIST data to unit scale and one-hot labels.\"\"\"\n",
        "  train_images, train_labels, test_images, test_labels = mnist_raw()\n",
        "\n",
        "  train_images = _partial_flatten(train_images) / numpy.float32(255.)\n",
        "  test_images = _partial_flatten(test_images) / numpy.float32(255.)\n",
        "  train_labels = _one_hot(train_labels, 10)\n",
        "  test_labels = _one_hot(test_labels, 10)\n",
        "\n",
        "  if create_outliers:\n",
        "    mum_outliers = 30000\n",
        "    perm = numpy.random.RandomState(0).permutation(mum_outliers)\n",
        "    train_images[:mum_outliers] = train_images[:mum_outliers][perm]\n",
        "\n",
        "  return train_images, train_labels, test_images, test_labels\n",
        "\n",
        "def shape_as_image(images, labels, dummy_dim=False):\n",
        "  target_shape = (-1, 1, 28, 28, 1) if dummy_dim else (-1, 28, 28, 1)\n",
        "  return np.reshape(images, target_shape), labels\n",
        "\n",
        "#train_images, train_labels, test_images, test_labels = mnist(create_outliers=False)\n",
        "train_images, train_labels, test_images, test_labels = mnist(create_outliers=True)\n",
        "num_train = train_images.shape[0]"
      ],
      "execution_count": 5,
      "outputs": [
        {
          "output_type": "stream",
          "text": [
            "downloaded https://storage.googleapis.com/cvdf-datasets/mnist/train-images-idx3-ubyte.gz to /tmp/\n",
            "downloaded https://storage.googleapis.com/cvdf-datasets/mnist/train-labels-idx1-ubyte.gz to /tmp/\n",
            "downloaded https://storage.googleapis.com/cvdf-datasets/mnist/t10k-images-idx3-ubyte.gz to /tmp/\n",
            "downloaded https://storage.googleapis.com/cvdf-datasets/mnist/t10k-labels-idx1-ubyte.gz to /tmp/\n"
          ],
          "name": "stdout"
        }
      ]
    },
    {
      "cell_type": "markdown",
      "metadata": {
        "id": "VzOQ-D_WsGJP",
        "colab_type": "text"
      },
      "source": [
        "This function computes the output of a fully-connected neural network (i.e., multilayer perceptron) by iterating over all of its layers and:\n",
        "\n",
        "1. taking the `activations` of the previous layer (or the input itself for the first hidden layer) to compute the `outputs` of a linear classifier. Recall the lectures: `outputs` is what we wrote $z=w\\cdot x + b$ where $x$ is the input to the linear classifier. \n",
        "2. applying a non-linear activation. Here we will use $tanh$.\n",
        "\n",
        "Complete the following cell to compute `outputs` and `activations`. "
      ]
    },
    {
      "cell_type": "code",
      "metadata": {
        "colab_type": "code",
        "id": "P8x0O6Kdqj4k",
        "colab": {}
      },
      "source": [
        "def predict(params, inputs):\n",
        "  activations = inputs\n",
        "  for w, b in params[:-1]:\n",
        "    outputs = np.dot(activations, w) + b \n",
        "    activations = np.tanh(outputs) \n",
        "\n",
        "  final_w, final_b = params[-1]\n",
        "  logits = np.dot(activations, final_w) + final_b\n",
        "  return logits - logsumexp(logits, axis=1, keepdims=True)"
      ],
      "execution_count": 0,
      "outputs": []
    },
    {
      "cell_type": "markdown",
      "metadata": {
        "colab_type": "text",
        "id": "JjBVdjvyqj4c"
      },
      "source": [
        "The following cell defines the accuracy of our model and how to initialize its parameters. "
      ]
    },
    {
      "cell_type": "code",
      "metadata": {
        "colab_type": "code",
        "id": "kNAyRGfuqj4W",
        "colab": {}
      },
      "source": [
        "def accuracy(params, batch):\n",
        "  inputs, targets = batch\n",
        "  target_class = np.argmax(targets, axis=1)\n",
        "  predicted_class = np.argmax(predict(params, inputs), axis=1)\n",
        "  return np.mean(predicted_class == target_class)\n",
        "\n",
        "def init_random_params(layer_sizes, rng=npr.RandomState(0)):\n",
        "  scale = 0.1\n",
        "  return [(scale * rng.randn(m, n), scale * rng.randn(n))\n",
        "          for m, n, in zip(layer_sizes[:-1], layer_sizes[1:])]"
      ],
      "execution_count": 0,
      "outputs": []
    },
    {
      "cell_type": "markdown",
      "metadata": {
        "colab_type": "text",
        "id": "ngulcUXbqj4M"
      },
      "source": [
        "The following cell creates a Python generator for our dataset. It outputs one batch of $n$ training examples at a time. "
      ]
    },
    {
      "cell_type": "code",
      "metadata": {
        "colab_type": "code",
        "id": "iydmc_3Dqj4B",
        "colab": {}
      },
      "source": [
        "batch_size = 32\n",
        "num_complete_batches, leftover = divmod(num_train, batch_size)\n",
        "num_batches = num_complete_batches + bool(leftover)\n",
        "def data_stream():\n",
        "  rng = npr.RandomState(0)\n",
        "  while True:\n",
        "    perm = rng.permutation(num_train)\n",
        "    for i in range(num_batches):\n",
        "      batch_idx = perm[i * batch_size:(i + 1) * batch_size]\n",
        "      yield train_images[batch_idx], train_labels[batch_idx]\n",
        "batches = data_stream()"
      ],
      "execution_count": 0,
      "outputs": []
    },
    {
      "cell_type": "markdown",
      "metadata": {
        "id": "dqNmmc7numGU",
        "colab_type": "text"
      },
      "source": [
        "Before we get started, we need to import two small libraries that contain boilerplate code for common neural network layer types and for optimizers like mini-batch SGD."
      ]
    },
    {
      "cell_type": "code",
      "metadata": {
        "id": "tvLxNfXtXCRb",
        "colab_type": "code",
        "colab": {}
      },
      "source": [
        "from jax.experimental import optimizers\n",
        "from jax.experimental import stax"
      ],
      "execution_count": 0,
      "outputs": []
    },
    {
      "cell_type": "markdown",
      "metadata": {
        "id": "nNwMlXqfXI8G",
        "colab_type": "text"
      },
      "source": [
        "Here is a fully-connected neural network architecture, like the one of Problem 1, but this time defined with `stax`"
      ]
    },
    {
      "cell_type": "code",
      "metadata": {
        "id": "Y4wu1XqFds4X",
        "colab_type": "code",
        "colab": {}
      },
      "source": [
        "init_random_params, predict = stax.serial(\n",
        "\n",
        "    stax.Conv(32, (3, 3), strides=(1, 1)),\n",
        "    stax.Relu,\n",
        "    stax.MaxPool((2, 2), strides=(2, 2)),\n",
        "   \n",
        "    stax.Conv(64, (3, 3), strides=(1, 1)),\n",
        "    stax.Relu,\n",
        "    stax.Conv(64, (3, 3), strides=(1, 1)),\n",
        "    stax.Relu,\n",
        "    stax.MaxPool((2, 2), strides=(2, 2)),\n",
        "\n",
        "    stax.Flatten,\n",
        "    stax.Dense(100),\n",
        "    stax.Relu,\n",
        "\n",
        "    stax.Dense(10),\n",
        ")"
      ],
      "execution_count": 0,
      "outputs": []
    },
    {
      "cell_type": "markdown",
      "metadata": {
        "colab_type": "text",
        "id": "LSQqdFqvqj4j"
      },
      "source": [
        "The following cell computes the loss of our model. Here we are using cross-entropy combined with a softmax but the implementation uses the `LogSumExp` trick for numerical stability. This is why our previous function `predict` returns the logits to which we substract the `logsumexp` of logits. We discussed this in class but you can read more about it [here](https://blog.feedly.com/tricks-of-the-trade-logsumexp/).\n",
        "\n",
        "Complete the return line. Recall that the loss is defined as :\n",
        "$$ l(X, Y) = -\\frac{1}{n} \\sum_{i\\in 1..n}  \\sum_{j\\in 1.. K}y_j^{(i)} \\log(f_j(x^{(i)})) = -\\frac{1}{n} \\sum_{i\\in 1..n}  \\sum_{j\\in 1.. K}y_j^{(i)} \\log\\left(\\frac{z_j^{(i)}}{\\sum_{k\\in 1..K}z_k^{(i)}}\\right) $$\n",
        "where $X$ is a matrix containing a batch of $n$ training inputs, and $Y$ a matrix containing a batch of one-hot encoded labels defined over $K$ labels. Here $z_j^{(i)}$ is the logits (i.e., input to the softmax) of the model on the example $i$ of our batch of training examples $X$."
      ]
    },
    {
      "cell_type": "code",
      "metadata": {
        "id": "zQEeOtAEdvYn",
        "colab_type": "code",
        "colab": {}
      },
      "source": [
        "def loss(params, batch):\n",
        "  inputs, targets = batch\n",
        "  logits = predict(params, inputs)\n",
        "  preds  = stax.logsoftmax(logits)\n",
        "  return -np.mean(np.sum(targets*preds, axis=1)) "
      ],
      "execution_count": 0,
      "outputs": []
    },
    {
      "cell_type": "markdown",
      "metadata": {
        "id": "8ZBxTvCweJbN",
        "colab_type": "text"
      },
      "source": [
        "Next, we define the mini-batch SGD optimizer, this time with the optimizers library in JAX. "
      ]
    },
    {
      "cell_type": "code",
      "metadata": {
        "id": "peG-cAZ0eGTG",
        "colab_type": "code",
        "colab": {}
      },
      "source": [
        "learning_rate = 0.01\n",
        "opt_init, opt_update, get_params = optimizers.momentum(learning_rate, 0.9)\n",
        "\n",
        "@jit\n",
        "def update(_, i, opt_state, batch):\n",
        "  params = get_params(opt_state)\n",
        "  return opt_update(i, grad(loss)(params, batch), opt_state)"
      ],
      "execution_count": 0,
      "outputs": []
    },
    {
      "cell_type": "markdown",
      "metadata": {
        "id": "gVx2h8lqeoTD",
        "colab_type": "text"
      },
      "source": [
        "The next cell contains our training loop, very similar to Problem 1. "
      ]
    },
    {
      "cell_type": "code",
      "metadata": {
        "id": "41Y6wwFzb-mk",
        "colab_type": "code",
        "outputId": "2e072daa-6d59-42cd-c757-db81bd02b85d",
        "colab": {
          "base_uri": "https://localhost:8080/",
          "height": 191
        }
      },
      "source": [
        "num_epochs = 10\n",
        "\n",
        "key = random.PRNGKey(123)\n",
        "_, init_params = init_random_params(key, (-1, 28, 28, 1))\n",
        "opt_state = opt_init(init_params)\n",
        "itercount = itertools.count()\n",
        "\n",
        "for epoch in range(1, num_epochs + 1):\n",
        "  for _ in range(num_batches):\n",
        "    opt_state = update(key, next(itercount), opt_state, shape_as_image(*next(batches)))\n",
        "\n",
        "  params = get_params(opt_state)\n",
        "  test_acc = accuracy(params, shape_as_image(test_images, test_labels))\n",
        "  test_loss = loss(params, shape_as_image(test_images, test_labels))\n",
        "  print('Test set loss, accuracy (%): ({:.2f}, {:.2f})'.format(test_loss, 100 * test_acc))"
      ],
      "execution_count": 13,
      "outputs": [
        {
          "output_type": "stream",
          "text": [
            "Test set loss, accuracy (%): (0.83, 96.94)\n",
            "Test set loss, accuracy (%): (0.68, 97.60)\n",
            "Test set loss, accuracy (%): (0.84, 97.88)\n",
            "Test set loss, accuracy (%): (0.76, 97.86)\n",
            "Test set loss, accuracy (%): (0.66, 98.17)\n",
            "Test set loss, accuracy (%): (0.76, 98.16)\n",
            "Test set loss, accuracy (%): (0.79, 98.28)\n",
            "Test set loss, accuracy (%): (0.67, 97.99)\n",
            "Test set loss, accuracy (%): (0.57, 97.92)\n",
            "Test set loss, accuracy (%): (0.69, 97.74)\n"
          ],
          "name": "stdout"
        }
      ]
    },
    {
      "cell_type": "markdown",
      "metadata": {
        "colab_type": "text",
        "id": "lfrYzNCnLpfv"
      },
      "source": [
        "# **Problem 1**\n"
      ]
    },
    {
      "cell_type": "markdown",
      "metadata": {
        "id": "y6B8GdvuyIcO",
        "colab_type": "text"
      },
      "source": [
        "Visulize the MNIST test image \"7\"："
      ]
    },
    {
      "cell_type": "code",
      "metadata": {
        "id": "uLkUeditweSi",
        "colab_type": "code",
        "outputId": "45ca08d4-6ae7-40b7-db8c-34d8b63e7bfb",
        "colab": {
          "base_uri": "https://localhost:8080/",
          "height": 283
        }
      },
      "source": [
        "import matplotlib.pyplot as plt\n",
        "\n",
        "seven_pic, seven_label = shape_as_image(test_images[0], test_labels[0])\n",
        "\n",
        "seven_mnist = seven_pic.reshape([28, 28]);\n",
        "plt.gray()\n",
        "plt.imshow(seven_mnist)"
      ],
      "execution_count": 26,
      "outputs": [
        {
          "output_type": "execute_result",
          "data": {
            "text/plain": [
              "<matplotlib.image.AxesImage at 0x7f060c3d6128>"
            ]
          },
          "metadata": {
            "tags": []
          },
          "execution_count": 26
        },
        {
          "output_type": "display_data",
          "data": {
            "image/png": "[encoded data removed]",
            "text/plain": [
              "<Figure size 432x288 with 1 Axes>"
            ]
          },
          "metadata": {
            "tags": []
          }
        }
      ]
    },
    {
      "cell_type": "markdown",
      "metadata": {
        "id": "dOoztfXI8Nog",
        "colab_type": "text"
      },
      "source": [
        "Output the prediction result:"
      ]
    },
    {
      "cell_type": "code",
      "metadata": {
        "id": "MchWQHEc2oBA",
        "colab_type": "code",
        "outputId": "6445fd31-55bc-4b86-d2c2-6e27502e8bc2",
        "colab": {
          "base_uri": "https://localhost:8080/",
          "height": 265
        }
      },
      "source": [
        "prediction = predict(params,seven_pic)                                           # \"predict\" function takes image (square matrix), output a column vector\n",
        "plt.bar(np.arange(len(prediction[0])),prediction[0])\n",
        "plt.show()"
      ],
      "execution_count": 28,
      "outputs": [
        {
          "output_type": "display_data",
          "data": {
            "image/png": "[encoded data removed]",
            "text/plain": [
              "<Figure size 432x288 with 1 Axes>"
            ]
          },
          "metadata": {
            "tags": []
          }
        }
      ]
    },
    {
      "cell_type": "markdown",
      "metadata": {
        "id": "7RPDo2bUG4DG",
        "colab_type": "text"
      },
      "source": [
        "Perturb the image \"7\" and see prediction vector:"
      ]
    },
    {
      "cell_type": "code",
      "metadata": {
        "id": "DjbYMgxB81D0",
        "colab_type": "code",
        "outputId": "10acfc98-928f-483e-e6a5-9ac0eae0afb9",
        "colab": {
          "base_uri": "https://localhost:8080/",
          "height": 269
        }
      },
      "source": [
        "def perturb(image, label, epsilon):\n",
        "  \"\"\"\n",
        "  image: after function \"shape_as_image\", intake one image, square matrix (1,28,28,1)\n",
        "  label: after function \"shape_as image\", intake on one-hot column vector (10,)\n",
        "  ind: return the max entry index from label (actual class)\n",
        "  y: return the y (prediction) value that correspond to the labeled class\n",
        "  t: one-hot value for the label\n",
        "  epsilon: hyperparameter, tweak this until the wrong prediction is made\n",
        "  delta: derivative of logistic cross-entropy loss, which is y-t\n",
        "  per: perturbed data\n",
        "  \"\"\"\n",
        "  ind = np.argmax(label)                                                       \n",
        "  t = 1\n",
        "  y = np.amax(prediction[ind])                                                    \n",
        "  delta_L = y - t                                                                                                                                \n",
        "  per = image + epsilon * np.sign(delta_L)                                      \n",
        "  return np.array(per)\n",
        "\n",
        "epsilon = 3\n",
        "seven_per = perturb(seven_pic, seven_label, epsilon)\n",
        "prediction_per = predict(params, seven_per)\n",
        "plt.bar(np.arange(len(prediction_per[0])),prediction_per[0])\n",
        "plt.show()                                                                      # for different network the prediction vector will be different"
      ],
      "execution_count": 38,
      "outputs": [
        {
          "output_type": "display_data",
          "data": {
            "image/png": "[encoded data removed]",
            "text/plain": [
              "<Figure size 432x288 with 1 Axes>"
            ]
          },
          "metadata": {
            "tags": []
          }
        }
      ]
    },
    {
      "cell_type": "markdown",
      "metadata": {
        "id": "iR7IdICUKpic",
        "colab_type": "text"
      },
      "source": [
        "Let's see the wrong prediction and image:"
      ]
    },
    {
      "cell_type": "code",
      "metadata": {
        "id": "w5W9obXsKdlh",
        "colab_type": "code",
        "outputId": "20385d7e-635a-4445-d51f-7df4d0bb9952",
        "colab": {
          "base_uri": "https://localhost:8080/",
          "height": 283
        }
      },
      "source": [
        "seven_per_pic = seven_per.reshape([28, 28]);\n",
        "plt.gray()\n",
        "plt.imshow(seven_per_pic)                                                       # cant really see the difference...\n",
        "\n",
        "ind_per = np.argmax(prediction_per) \n",
        "print(ind_per)                                                                  # print out the perturbed sorted number"
      ],
      "execution_count": 18,
      "outputs": [
        {
          "output_type": "stream",
          "text": [
            "7\n"
          ],
          "name": "stdout"
        },
        {
          "output_type": "display_data",
          "data": {
            "image/png": "[encoded data removed]",
            "text/plain": [
              "<Figure size 432x288 with 1 Axes>"
            ]
          },
          "metadata": {
            "tags": []
          }
        }
      ]
    },
    {
      "cell_type": "markdown",
      "metadata": {
        "id": "7XfCrIcDLxvz",
        "colab_type": "text"
      },
      "source": [
        "# **Problem 2**"
      ]
    },
    {
      "cell_type": "code",
      "metadata": {
        "id": "pGO8t98TwWSn",
        "colab_type": "code",
        "outputId": "f5aaff3a-50a9-4f1f-9383-24875c76844b",
        "colab": {
          "base_uri": "https://localhost:8080/",
          "height": 265
        }
      },
      "source": [
        "for epsilon in np.arange(0,2,0.2):\n",
        "  count = 0\n",
        "  acc_per = 0\n",
        "  for i in range (0,len(test_images)):\n",
        "    sample_img, sample_label = shape_as_image(test_images[i], test_labels[i]) \n",
        "    prediction_sample = predict(params,sample_img)\n",
        "    if np.argmax(prediction_sample) == np.argmax(sample_label) and count <= 1000:  \n",
        "      count = count + 1\n",
        "      \n",
        "      sample_per = perturb(sample_img, sample_label, epsilon)\n",
        "      prediction_sample_per = predict(params, sample_per)\n",
        "\n",
        "      acc_per = acc_per + accuracy(params, \n",
        "        shape_as_image(sample_per.reshape(1,784), sample_label.reshape(1,10)))  # when wrap the image and label back using \"shape_as_image\", they need to be reshaped to row vector\n",
        "      \n",
        "      acc_per_avg = acc_per/count\n",
        "\n",
        "      #print (acc_per_avg)  \n",
        "  plt.scatter(epsilon,acc_per_avg)  "
      ],
      "execution_count": 158,
      "outputs": [
        {
          "output_type": "display_data",
          "data": {
            "image/png": "[encoded data removed]",
            "text/plain": [
              "<Figure size 432x288 with 1 Axes>"
            ]
          },
          "metadata": {
            "tags": []
          }
        }
      ]
    },
    {
      "cell_type": "markdown",
      "metadata": {
        "id": "eaOBaGMc4pH4",
        "colab_type": "text"
      },
      "source": [
        "# **Problem 3**"
      ]
    },
    {
      "cell_type": "markdown",
      "metadata": {
        "id": "pOBXKXw0pg6z",
        "colab_type": "text"
      },
      "source": [
        "Modified perturbation function"
      ]
    },
    {
      "cell_type": "code",
      "metadata": {
        "id": "lUlwfWWNqDxh",
        "colab_type": "code",
        "colab": {}
      },
      "source": [
        "def perturb_iteration(image, label, epsilon, iteration):\n",
        "  \"\"\"\n",
        "  image: after function \"shape_as_image\", intake one image, square matrix (1,28,28,1)\n",
        "  label: after function \"shape_as image\", intake on one-hot column vector (10,)\n",
        "  iteration: how many iteration one wants\n",
        "  epsilon: hyperparameter, tweak this until the wrong prediction is made\n",
        "  per_prime: initial perturbed image\n",
        "  per_iterative: iterative perturbed data\n",
        "  \"\"\"\n",
        "  per_prime = perturb(image, label, epsilon)\n",
        "  for k in range(0,iteration):\n",
        "    per_iteration = perturb(per_prime,label,epsilon)\n",
        "    per_prime = per_iteration\n",
        "\n",
        "  return np.array(per_prime)\n",
        "\n",
        "epsilon = 3\n",
        "iteration = 5\n",
        "seven_per_iteration = perturb_iteration(seven_pic, seven_label, epsilon/iteration, iteration)         "
      ],
      "execution_count": 0,
      "outputs": []
    },
    {
      "cell_type": "markdown",
      "metadata": {
        "id": "9FU5eFp2_uaF",
        "colab_type": "text"
      },
      "source": [
        "Iterative perturbing image \"7\" and see prediction vector"
      ]
    },
    {
      "cell_type": "code",
      "metadata": {
        "id": "VMqrd2tI_tY6",
        "colab_type": "code",
        "colab": {
          "base_uri": "https://localhost:8080/",
          "height": 265
        },
        "outputId": "baa46f0b-dc6e-4661-8ae8-b43270332d70"
      },
      "source": [
        "prediction_per_iteration = predict(params, seven_per_iteration)\n",
        "plt.bar(np.arange(len(prediction_per_iteration[0])),prediction_per_iteration[0])\n",
        "plt.show() "
      ],
      "execution_count": 34,
      "outputs": [
        {
          "output_type": "display_data",
          "data": {
            "image/png": "[encoded data removed]",
            "text/plain": [
              "<Figure size 432x288 with 1 Axes>"
            ]
          },
          "metadata": {
            "tags": []
          }
        }
      ]
    },
    {
      "cell_type": "markdown",
      "metadata": {
        "id": "a_epxoom_33N",
        "colab_type": "text"
      },
      "source": [
        "See the iteratively perturbed image and predicted number:"
      ]
    },
    {
      "cell_type": "code",
      "metadata": {
        "id": "7h40n6-KABDs",
        "colab_type": "code",
        "colab": {
          "base_uri": "https://localhost:8080/",
          "height": 283
        },
        "outputId": "318606c0-08ee-4e20-9205-6c576c574da1"
      },
      "source": [
        "seven_per_iteration_pic = seven_per_iteration.reshape([28, 28]);\n",
        "plt.gray()\n",
        "plt.imshow(seven_per_iteration_pic)                                             # cant really see the difference...\n",
        "\n",
        "ind_per_iteration = np.argmax(prediction_per_iteration) \n",
        "print(ind_per_iteration)    "
      ],
      "execution_count": 43,
      "outputs": [
        {
          "output_type": "stream",
          "text": [
            "1\n"
          ],
          "name": "stdout"
        },
        {
          "output_type": "display_data",
          "data": {
            "image/png": "[encoded data removed]",
            "text/plain": [
              "<Figure size 432x288 with 1 Axes>"
            ]
          },
          "metadata": {
            "tags": []
          }
        }
      ]
    },
    {
      "cell_type": "markdown",
      "metadata": {
        "id": "2ScLjL2PBbIi",
        "colab_type": "text"
      },
      "source": [
        "# **Problem 4**"
      ]
    },
    {
      "cell_type": "code",
      "metadata": {
        "id": "6OvJEoPuBcsW",
        "colab_type": "code",
        "colab": {
          "base_uri": "https://localhost:8080/",
          "height": 265
        },
        "outputId": "4e5c5537-603b-4179-b955-7eb6a0abb597"
      },
      "source": [
        "iteration = 5\n",
        "\n",
        "for epsilon in np.arange(0,2,0.2):\n",
        "  count = 0\n",
        "  acc_per = 0\n",
        "  for i in range (0,2000):\n",
        "    sample_img, sample_label = shape_as_image(test_images[i], test_labels[i]) \n",
        "    prediction_sample = predict(params,sample_img)\n",
        "    if np.argmax(prediction_sample) == np.argmax(sample_label) and count <= 1000:  \n",
        "      count = count + 1\n",
        "      \n",
        "      sample_per = perturb_iteration(sample_img, sample_label, epsilon/iteration, iteration)\n",
        "      prediction_sample_per = predict(params, sample_per)\n",
        "\n",
        "      acc_per = acc_per + accuracy(params, \n",
        "        shape_as_image(sample_per.reshape(1,784), sample_label.reshape(1,10)))  # when wrap the image and label back using \"shape_as_image\", they need to be reshaped to row vector\n",
        "      \n",
        "      acc_per_avg = acc_per/count\n",
        "\n",
        "      #print (acc_per_avg)  \n",
        "  plt.scatter(epsilon,acc_per_avg) "
      ],
      "execution_count": 42,
      "outputs": [
        {
          "output_type": "display_data",
          "data": {
            "image/png": "[encoded data removed]",
            "text/plain": [
              "<Figure size 432x288 with 1 Axes>"
            ]
          },
          "metadata": {
            "tags": []
          }
        }
      ]
    }
  ]
}